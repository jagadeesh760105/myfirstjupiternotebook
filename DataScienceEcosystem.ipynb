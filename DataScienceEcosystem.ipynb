{
 "cells": [
  {
   "cell_type": "markdown",
   "id": "78edff08-38f9-49bd-b4cc-48ddb9660453",
   "metadata": {},
   "source": [
    "## Data Science Tools and Ecosystem"
   ]
  },
  {
   "cell_type": "markdown",
   "id": "95bf4403-5fcd-4b9f-a387-d4b4b0129f2d",
   "metadata": {},
   "source": [
    "**Objectives:**\n",
    "- Some of the popular languages that Data Scientists use.\n",
    "- Some of the commonly used libraries used by Data Scientists.\n",
    "- Few examples of evaluating arithmetic expressions in Python."
   ]
  },
  {
   "cell_type": "markdown",
   "id": "192bdf84-07d6-4649-a4fb-e49f7a305299",
   "metadata": {},
   "source": [
    "In this notebook, Data Science Tools and Ecosystem are summarized."
   ]
  },
  {
   "cell_type": "markdown",
   "id": "58c94717-ce68-46f3-baf7-b609937c7db4",
   "metadata": {},
   "source": [
    "Some of the popular languages that Data Scientists use are: \n",
    "1. Python \n",
    "2. R \n",
    "3. SQL"
   ]
  },
  {
   "cell_type": "markdown",
   "id": "65466330-ba9b-45bf-8d1d-6e1daea4dd0c",
   "metadata": {},
   "source": [
    "Some of the commonly used libraries used by Data Scientists include:\n",
    "1. Pandas\n",
    "2. Numpy\n",
    "3. Matplotib\n",
    "4. Scikitlearn"
   ]
  },
  {
   "cell_type": "markdown",
   "id": "cd8c7dda-8ccd-49dc-ab82-1ec416bbdc07",
   "metadata": {},
   "source": [
    "|Data Science Tools|\n",
    "--------------------\n",
    "|Apache Spark|\n",
    "|Oracle Database|\n",
    "|IBM DB2|"
   ]
  },
  {
   "cell_type": "markdown",
   "id": "b76673e1-5e51-4353-86aa-88457f7f9eaf",
   "metadata": {},
   "source": [
    "### Below are a few examples of evaluating arithmetic expressions in Python."
   ]
  },
  {
   "cell_type": "code",
   "execution_count": 6,
   "id": "ad1ff068-848e-4879-8c97-8a5402690216",
   "metadata": {
    "tags": []
   },
   "outputs": [
    {
     "data": {
      "text/plain": [
       "17"
      ]
     },
     "execution_count": 6,
     "metadata": {},
     "output_type": "execute_result"
    }
   ],
   "source": [
    "#This a simple arithmetic expression to mutiply then add integers \n",
    "(3*4)+5"
   ]
  },
  {
   "cell_type": "code",
   "execution_count": 10,
   "id": "29b1aaf6-0439-4c99-a269-b59c73e48ccb",
   "metadata": {
    "tags": []
   },
   "outputs": [
    {
     "data": {
      "text/plain": [
       "3.3333333333333335"
      ]
     },
     "execution_count": 10,
     "metadata": {},
     "output_type": "execute_result"
    }
   ],
   "source": [
    "#This will convert 200 minutes to hours by diving by 60\n",
    "200/60"
   ]
  },
  {
   "cell_type": "markdown",
   "id": "9ef1f418-b823-405b-b6d1-b160887dd886",
   "metadata": {},
   "source": [
    "## Author\n",
    "Palthya Jagadeesh Naik"
   ]
  },
  {
   "cell_type": "code",
   "execution_count": null,
   "id": "5685bc7d-fb3b-44db-9687-449578aa4a08",
   "metadata": {},
   "outputs": [],
   "source": []
  }
 ],
 "metadata": {
  "kernelspec": {
   "display_name": "Python 3 (ipykernel)",
   "language": "python",
   "name": "python3"
  },
  "language_info": {
   "codemirror_mode": {
    "name": "ipython",
    "version": 3
   },
   "file_extension": ".py",
   "mimetype": "text/x-python",
   "name": "python",
   "nbconvert_exporter": "python",
   "pygments_lexer": "ipython3",
   "version": "3.11.4"
  }
 },
 "nbformat": 4,
 "nbformat_minor": 5
}
